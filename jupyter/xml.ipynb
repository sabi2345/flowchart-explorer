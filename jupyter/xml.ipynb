{
 "cells": [
  {
   "cell_type": "code",
   "execution_count": 2,
   "metadata": {},
   "outputs": [
    {
     "ename": "KeyError",
     "evalue": "'10'",
     "output_type": "error",
     "traceback": [
      "\u001b[1;31m---------------------------------------------------------------------------\u001b[0m",
      "\u001b[1;31mKeyError\u001b[0m                                  Traceback (most recent call last)",
      "Cell \u001b[1;32mIn[2], line 34\u001b[0m\n\u001b[0;32m     31\u001b[0m     \u001b[38;5;28;01mreturn\u001b[39;00m graph_info\n\u001b[0;32m     33\u001b[0m \u001b[38;5;66;03m# XMLファイルからグラフ情報を抽出\u001b[39;00m\n\u001b[1;32m---> 34\u001b[0m graph_info \u001b[38;5;241m=\u001b[39m \u001b[43mextract_graph_info\u001b[49m\u001b[43m(\u001b[49m\u001b[38;5;124;43m'\u001b[39;49m\u001b[38;5;124;43m../charts/testchart.xml\u001b[39;49m\u001b[38;5;124;43m'\u001b[39;49m\u001b[43m)\u001b[49m\n\u001b[0;32m     36\u001b[0m \u001b[38;5;66;03m# グラフ情報を表示\u001b[39;00m\n\u001b[0;32m     37\u001b[0m \u001b[38;5;28;01mfor\u001b[39;00m node_id, node_info \u001b[38;5;129;01min\u001b[39;00m graph_info\u001b[38;5;241m.\u001b[39mitems():\n",
      "Cell \u001b[1;32mIn[2], line 27\u001b[0m, in \u001b[0;36mextract_graph_info\u001b[1;34m(xml_file)\u001b[0m\n\u001b[0;32m     25\u001b[0m \u001b[38;5;66;03m# エッジ情報を辞書に保存\u001b[39;00m\n\u001b[0;32m     26\u001b[0m \u001b[38;5;28;01mif\u001b[39;00m edge_source \u001b[38;5;129;01mand\u001b[39;00m edge_target:\n\u001b[1;32m---> 27\u001b[0m     \u001b[38;5;28;01mif\u001b[39;00m \u001b[38;5;124m'\u001b[39m\u001b[38;5;124medges\u001b[39m\u001b[38;5;124m'\u001b[39m \u001b[38;5;129;01mnot\u001b[39;00m \u001b[38;5;129;01min\u001b[39;00m \u001b[43mgraph_info\u001b[49m\u001b[43m[\u001b[49m\u001b[43medge_source\u001b[49m\u001b[43m]\u001b[49m:\n\u001b[0;32m     28\u001b[0m         graph_info[edge_source][\u001b[38;5;124m'\u001b[39m\u001b[38;5;124medges\u001b[39m\u001b[38;5;124m'\u001b[39m] \u001b[38;5;241m=\u001b[39m []\n\u001b[0;32m     29\u001b[0m     graph_info[edge_source][\u001b[38;5;124m'\u001b[39m\u001b[38;5;124medges\u001b[39m\u001b[38;5;124m'\u001b[39m]\u001b[38;5;241m.\u001b[39mappend(edge_target)\n",
      "\u001b[1;31mKeyError\u001b[0m: '10'"
     ]
    }
   ],
   "source": [
    "import xml.etree.ElementTree as ET\n",
    "\n",
    "def extract_graph_info(xml_file):\n",
    "    # XMLファイルを解析\n",
    "    tree = ET.parse(xml_file)\n",
    "    root = tree.getroot()\n",
    "\n",
    "    # グラフ情報を保存するための辞書\n",
    "    graph_info = {}\n",
    "\n",
    "    # 各ノード（mxCell要素）をループ\n",
    "    for mxCell in root.iter('mxCell'):\n",
    "        # ノードのIDと値を取得\n",
    "        node_id = mxCell.get('id')\n",
    "        node_value = mxCell.get('value')\n",
    "\n",
    "        # エッジ情報を取得（存在する場合）\n",
    "        edge_source = mxCell.get('source')\n",
    "        edge_target = mxCell.get('target')\n",
    "\n",
    "        # ノード情報を辞書に保存\n",
    "        if node_id and node_value:\n",
    "            graph_info[node_id] = {'value': node_value}\n",
    "\n",
    "        # エッジ情報を辞書に保存\n",
    "        if edge_source and edge_target:\n",
    "            if 'edges' not in graph_info[edge_source]:\n",
    "                graph_info[edge_source]['edges'] = []\n",
    "            graph_info[edge_source]['edges'].append(edge_target)\n",
    "\n",
    "    # <object>タグの中のmxCell要素も解析対象に含める\n",
    "    for obj in root.iter('object'):\n",
    "        for mxCell in obj.iter('mxCell'):\n",
    "            # ノードのIDと値を取得\n",
    "            node_id = mxCell.get('id')\n",
    "            node_value = mxCell.get('value')\n",
    "\n",
    "            # エッジ情報を取得（存在する場合）\n",
    "            edge_source = mxCell.get('source')\n",
    "            edge_target = mxCell.get('target')\n",
    "\n",
    "            # ノード情報を辞書に保存\n",
    "            if node_id and node_value:\n",
    "                graph_info[node_id] = {'value': node_value}\n",
    "\n",
    "            # エッジ情報を辞書に保存\n",
    "            if edge_source and edge_target:\n",
    "                if 'edges' not in graph_info[edge_source]:\n",
    "                    graph_info[edge_source]['edges'] = []\n",
    "                graph_info[edge_source]['edges'].append(edge_target)\n",
    "\n",
    "    return graph_info\n",
    "\n",
    "# XMLファイルからグラフ情報を抽出\n",
    "graph_info = extract_graph_info('../charts/testchart.drawio')\n",
    "\n",
    "# グラフ情報を表示\n",
    "for node_id, node_info in graph_info.items():\n",
    "    print(f\"Node ID: {node_id}, Value: {node_info['value']}\")\n",
    "    if 'edges' in node_info:\n",
    "        print(f\"Edges: {node_info['edges']}\")\n"
   ]
  },
  {
   "cell_type": "code",
   "execution_count": 3,
   "metadata": {},
   "outputs": [],
   "source": [
    "# XMLファイルを解析\n",
    "xml_file = \"../charts/testchart.drawio\"\n",
    "tree = ET.parse(xml_file)\n",
    "root = tree.getroot()\n",
    "\n",
    "# グラフ情報を保存するための辞書\n",
    "graph_info = {}"
   ]
  },
  {
   "cell_type": "code",
   "execution_count": 4,
   "metadata": {},
   "outputs": [
    {
     "data": {
      "text/plain": [
       "<Element 'mxfile' at 0x000001785A3DFD30>"
      ]
     },
     "execution_count": 4,
     "metadata": {},
     "output_type": "execute_result"
    }
   ],
   "source": [
    "root"
   ]
  },
  {
   "cell_type": "code",
   "execution_count": 12,
   "metadata": {},
   "outputs": [
    {
     "name": "stdout",
     "output_type": "stream",
     "text": [
      "> \u001b[1;32mc:\\users\\hiro\\appdata\\local\\temp\\ipykernel_29844\\4131217913.py\u001b[0m(18)\u001b[0;36m<module>\u001b[1;34m()\u001b[0m\n",
      "\n",
      "'10'\n",
      "'11'\n",
      "{'63': {'value': 'loop1 exit'}}\n",
      "<Element 'mxCell' at 0x000001785A3F7D30>\n",
      "'12'\n",
      "*** KeyError: '10'\n",
      "*** KeyError: '10'\n"
     ]
    }
   ],
   "source": [
    "# 各ノード（mxCell要素）をループ\n",
    "for mxCell in root.iter('mxCell'):\n",
    "    # ノードのIDと値を取得\n",
    "    node_id = mxCell.get('id')\n",
    "    node_value = mxCell.get('value')\n",
    "\n",
    "    # エッジ情報を取得（存在する場合）\n",
    "    edge_source = mxCell.get('source')\n",
    "    edge_target = mxCell.get('target')\n",
    "\n",
    "    # ノード情報を辞書に保存\n",
    "    if node_id and node_value:\n",
    "        graph_info[node_id] = {'value': node_value}\n",
    "\n",
    "    # エッジ情報を辞書に保存\n",
    "    if edge_source and edge_target:\n",
    "        import pdb; pdb.set_trace() # 追加\n",
    "        if 'edges' not in graph_info[edge_source]:\n",
    "            graph_info[edge_source]['edges'] = []\n",
    "        graph_info[edge_source]['edges'].append(edge_target)"
   ]
  },
  {
   "cell_type": "code",
   "execution_count": 7,
   "metadata": {},
   "outputs": [
    {
     "data": {
      "text/plain": [
       "{'63': {'value': 'loop1 exit'}}"
      ]
     },
     "execution_count": 7,
     "metadata": {},
     "output_type": "execute_result"
    }
   ],
   "source": [
    "graph_info"
   ]
  },
  {
   "cell_type": "code",
   "execution_count": 10,
   "metadata": {},
   "outputs": [],
   "source": [
    "edge_source"
   ]
  },
  {
   "cell_type": "code",
   "execution_count": 13,
   "metadata": {},
   "outputs": [
    {
     "name": "stdout",
     "output_type": "stream",
     "text": [
      "Edge ID: 12\n",
      "source: 10\n",
      "target: 11\n",
      "style: edgeStyle=none;html=1;exitX=0.5;exitY=1;exitDx=0;exitDy=0;entryX=0.5;entryY=0;entryDx=0;entryDy=0;arcSize=12;strokeOpacity=100;\n",
      "edge: 1\n",
      "parent: 1\n",
      "\n",
      "Edge ID: 17\n",
      "source: 11\n",
      "target: 13\n",
      "style: edgeStyle=none;html=1;entryX=0.5;entryY=0;entryDx=0;entryDy=0;arcSize=12;strokeOpacity=100;\n",
      "edge: 1\n",
      "parent: 1\n",
      "\n",
      "Edge ID: 16\n",
      "source: 13\n",
      "target: 15\n",
      "value: \n",
      "style: edgeStyle=none;html=1;\n",
      "edge: 1\n",
      "parent: 1\n",
      "\n",
      "Edge ID: 19\n",
      "source: 13\n",
      "target: 33\n",
      "style: edgeStyle=elbowEdgeStyle;html=1;exitX=0.5;exitY=1;exitDx=0;exitDy=0;entryX=0.5;entryY=0;entryDx=0;entryDy=0;rounded=0;strokeColor=default;elbow=vertical;\n",
      "edge: 1\n",
      "parent: 1\n",
      "\n",
      "Edge ID: 35\n",
      "source: 33\n",
      "target: 34\n",
      "style: edgeStyle=elbowEdgeStyle;shape=connector;rounded=0;html=1;exitX=0.5;exitY=1;exitDx=0;exitDy=0;entryX=0.5;entryY=0;entryDx=0;entryDy=0;labelBackgroundColor=default;strokeColor=default;fontFamily=Helvetica;fontSize=11;fontColor=default;endArrow=classic;\n",
      "edge: 1\n",
      "parent: 1\n",
      "\n",
      "Edge ID: 37\n",
      "source: 34\n",
      "target: 36\n",
      "style: edgeStyle=elbowEdgeStyle;shape=connector;rounded=0;html=1;exitX=0.5;exitY=1;exitDx=0;exitDy=0;entryX=0.5;entryY=0;entryDx=0;entryDy=0;labelBackgroundColor=default;strokeColor=default;fontFamily=Helvetica;fontSize=11;fontColor=default;endArrow=classic;\n",
      "edge: 1\n",
      "parent: 1\n",
      "\n",
      "Edge ID: 40\n",
      "source: 36\n",
      "target: 38\n",
      "style: edgeStyle=elbowEdgeStyle;shape=connector;rounded=0;html=1;labelBackgroundColor=default;strokeColor=default;fontFamily=Helvetica;fontSize=11;fontColor=default;endArrow=classic;\n",
      "edge: 1\n",
      "parent: 1\n",
      "\n",
      "Edge ID: 41\n",
      "source: 38\n",
      "target: 39\n",
      "style: edgeStyle=elbowEdgeStyle;shape=connector;rounded=0;html=1;entryX=0.5;entryY=0;entryDx=0;entryDy=0;labelBackgroundColor=default;strokeColor=default;fontFamily=Helvetica;fontSize=11;fontColor=default;endArrow=classic;\n",
      "edge: 1\n",
      "parent: 1\n",
      "\n",
      "Edge ID: 44\n",
      "source: 38\n",
      "target: 43\n",
      "style: edgeStyle=elbowEdgeStyle;shape=connector;rounded=0;html=1;entryX=1;entryY=0.5;entryDx=0;entryDy=0;labelBackgroundColor=default;strokeColor=default;fontFamily=Helvetica;fontSize=11;fontColor=default;endArrow=classic;\n",
      "edge: 1\n",
      "parent: 1\n",
      "\n",
      "Edge ID: 53\n",
      "source: 38\n",
      "target: 63\n",
      "style: edgeStyle=orthogonalEdgeStyle;shape=connector;rounded=0;html=1;labelBackgroundColor=default;strokeColor=default;fontFamily=Helvetica;fontSize=11;fontColor=default;endArrow=classic;entryX=0.5;entryY=0;entryDx=0;entryDy=0;\n",
      "edge: 1\n",
      "parent: 1\n",
      "\n",
      "Edge ID: 47\n",
      "source: 39\n",
      "target: 45\n",
      "style: edgeStyle=orthogonalEdgeStyle;shape=connector;rounded=0;html=1;exitX=0.5;exitY=1;exitDx=0;exitDy=0;entryX=0.5;entryY=0;entryDx=0;entryDy=0;labelBackgroundColor=default;strokeColor=default;fontFamily=Helvetica;fontSize=11;fontColor=default;endArrow=classic;\n",
      "edge: 1\n",
      "parent: 1\n",
      "\n",
      "Edge ID: 56\n",
      "source: 42\n",
      "target: 55\n",
      "style: edgeStyle=orthogonalEdgeStyle;shape=connector;rounded=0;html=1;entryX=0.5;entryY=0;entryDx=0;entryDy=0;labelBackgroundColor=default;strokeColor=default;fontFamily=Helvetica;fontSize=11;fontColor=default;endArrow=classic;\n",
      "edge: 1\n",
      "parent: 1\n",
      "\n",
      "Edge ID: 46\n",
      "source: 43\n",
      "target: 45\n",
      "style: edgeStyle=orthogonalEdgeStyle;shape=connector;rounded=0;html=1;exitX=0.5;exitY=1;exitDx=0;exitDy=0;entryX=0;entryY=0.5;entryDx=0;entryDy=0;labelBackgroundColor=default;strokeColor=default;fontFamily=Helvetica;fontSize=11;fontColor=default;endArrow=classic;\n",
      "edge: 1\n",
      "parent: 1\n",
      "\n",
      "Edge ID: 54\n",
      "source: 45\n",
      "target: 42\n",
      "style: edgeStyle=orthogonalEdgeStyle;shape=connector;rounded=0;html=1;entryX=0.5;entryY=1;entryDx=0;entryDy=0;labelBackgroundColor=default;strokeColor=default;fontFamily=Helvetica;fontSize=11;fontColor=default;endArrow=classic;\n",
      "edge: 1\n",
      "parent: 1\n",
      "\n",
      "Edge ID: 58\n",
      "source: 63\n",
      "target: 55\n",
      "style: shape=connector;rounded=0;html=1;entryX=1;entryY=0.5;entryDx=0;entryDy=0;labelBackgroundColor=default;strokeColor=default;fontFamily=Helvetica;fontSize=11;fontColor=default;endArrow=classic;orthogonalLoop=0;shadow=0;edgeStyle=orthogonalEdgeStyle;exitX=0.5;exitY=1;exitDx=0;exitDy=0;\n",
      "edge: 1\n",
      "parent: 1\n",
      "\n"
     ]
    }
   ],
   "source": [
    "import xml.etree.ElementTree as ET\n",
    "\n",
    "def extract_edge_info(xml_file):\n",
    "    # XMLファイルを解析\n",
    "    tree = ET.parse(xml_file)\n",
    "    root = tree.getroot()\n",
    "\n",
    "    # エッジ情報を保存するための辞書\n",
    "    edge_info = {}\n",
    "\n",
    "    # 各エッジ（mxCell要素）をループ\n",
    "    for mxCell in root.iter('mxCell'):\n",
    "        # エッジのID、source、targetを取得\n",
    "        edge_id = mxCell.get('id')\n",
    "        edge_source = mxCell.get('source')\n",
    "        edge_target = mxCell.get('target')\n",
    "\n",
    "        # エッジ情報を辞書に保存\n",
    "        if edge_id and edge_source and edge_target:\n",
    "            edge_info[edge_id] = {'source': edge_source, 'target': edge_target}\n",
    "\n",
    "            # その他のプロパティも辞書に保存\n",
    "            for prop in mxCell.keys():\n",
    "                if prop not in ['id', 'source', 'target']:\n",
    "                    edge_info[edge_id][prop] = mxCell.get(prop)\n",
    "\n",
    "    return edge_info\n",
    "\n",
    "# XMLファイルからエッジ情報を抽出\n",
    "edge_info = extract_edge_info('../charts/testchart.drawio')\n",
    "\n",
    "# エッジ情報を表示\n",
    "for edge_id, edge_props in edge_info.items():\n",
    "    print(f\"Edge ID: {edge_id}\")\n",
    "    for prop, value in edge_props.items():\n",
    "        print(f\"{prop}: {value}\")\n",
    "    print()\n"
   ]
  },
  {
   "cell_type": "code",
   "execution_count": 15,
   "metadata": {},
   "outputs": [
    {
     "data": {
      "text/plain": [
       "dict_keys(['12', '17', '16', '19', '35', '37', '40', '41', '44', '53', '47', '56', '46', '54', '58'])"
      ]
     },
     "execution_count": 15,
     "metadata": {},
     "output_type": "execute_result"
    }
   ],
   "source": [
    "edge_info.keys()"
   ]
  },
  {
   "cell_type": "code",
   "execution_count": null,
   "metadata": {},
   "outputs": [],
   "source": []
  }
 ],
 "metadata": {
  "kernelspec": {
   "display_name": ".venv",
   "language": "python",
   "name": "python3"
  },
  "language_info": {
   "codemirror_mode": {
    "name": "ipython",
    "version": 3
   },
   "file_extension": ".py",
   "mimetype": "text/x-python",
   "name": "python",
   "nbconvert_exporter": "python",
   "pygments_lexer": "ipython3",
   "version": "3.11.7"
  }
 },
 "nbformat": 4,
 "nbformat_minor": 2
}
